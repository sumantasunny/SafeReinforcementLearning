{
 "cells": [
  {
   "cell_type": "markdown",
   "metadata": {},
   "source": [
    "# Safe Reinforcement Learning via Shielding\n",
    "\n",
    "A Jupyter Notebook by Carl Hildberandt"
   ]
  },
  {
   "cell_type": "markdown",
   "metadata": {},
   "source": [
    "This Jupyter notebook is a description of how the self-driving car code works. The original paper [\"Safe Reinforcement Learning via Shielding\"](https://arxiv.org/abs/1708.08611) is by: **Mohammed Alshiekh, Roderick Bloem, Ruediger Ehlers, Bettina Könighofer, Scott Niekum, Ufuk Topcu**. The original code can be found in their [github repo](https://github.com/safe-rl/safe-rl-shielding)."
   ]
  },
  {
   "cell_type": "markdown",
   "metadata": {},
   "source": [
    "## Setup"
   ]
  },
  {
   "cell_type": "markdown",
   "metadata": {},
   "source": [
    "This notebook was tested on a clean install of Ubuntu 18.04. Place this notebook inside the `envs/self-driving-car` folder."
   ]
  },
  {
   "cell_type": "markdown",
   "metadata": {},
   "source": [
    "### Install Dependencies\n",
    "Install the dependencies (Note: requirements.txt is given inside their repo):\n",
    "```\n",
    "$ sudo apt-get install python3-pip\n",
    "$ sudo apt-get install cmake\n",
    "$ sudo apt-get install swig\n",
    "$ sudo apt install python3-notebook jupyter jupyter-core python-ipykernel\n",
    "$ pip3 install jupyter\n",
    "$ pip3 install matplotlib\n",
    "$ pip3 install -r requirements.txt\n",
    "```"
   ]
  },
  {
   "cell_type": "markdown",
   "metadata": {},
   "source": [
    "### Changes to Codebase\n",
    "\n",
    "The following is a list of changes made to the [original code base](https://github.com/safe-rl/safe-rl-shielding)."
   ]
  },
  {
   "cell_type": "markdown",
   "metadata": {},
   "source": [
    "I removed all the `sleep(...)` commands from the code by replacing them with a `pass` command. This speeds up the visualization of the code."
   ]
  },
  {
   "cell_type": "markdown",
   "metadata": {},
   "source": [
    "Inside `util.py` I changed the `get_updates` command to work when no constraints and loss are passed. This is because when no shielding happens both the constraints and loss are none. Therefor change the line:\n",
    "\n",
    "```\n",
    "def get_updates(self, params, constraints, loss):\n",
    "```\n",
    "\n",
    "to:\n",
    "\n",
    "```\n",
    "def get_updates(self, params, constraints=None, loss=None):\n",
    "```"
   ]
  },
  {
   "cell_type": "markdown",
   "metadata": {},
   "source": [
    "Inside `krl.py` we need to update the big negative reward to have no shield:\n",
    "\n",
    "```\n",
    "elif not args.shield and args.big_neg:\n",
    "    shield = Shield()\n",
    "```\n",
    "\n",
    "to:\n",
    "\n",
    "```\n",
    "elif not args.shield and args.big_neg:\n",
    "    shield = None\n",
    "```"
   ]
  },
  {
   "cell_type": "markdown",
   "metadata": {},
   "source": [
    "### Running the Python Code\n",
    "\n",
    "You can then run their python code using:\n",
    "\n",
    "```\n",
    "# No Shield\n",
    "$ python3 krl.py -v\n",
    "\n",
    "# Big Negative Reward\n",
    "$ python3 krl.py -v -bn\n",
    "\n",
    "# Preemtive Shield\n",
    "$ python3 krl.py -v -p\n",
    "\n",
    "# Post Shield\n",
    "$ python3 krl.py -v -s\n",
    "```"
   ]
  },
  {
   "cell_type": "markdown",
   "metadata": {},
   "source": [
    "## Understanding the Paper\n",
    "\n",
    "This Jupyter notebook will be split into three sections to explain each of the sections of the paper. The sections are:\n",
    "* The Environment\n",
    "* Reinforcement Learning\n",
    "* Shielding\n",
    "\n",
    "After which all sections will be put together so that the basic essence of the paper is shown"
   ]
  },
  {
   "cell_type": "markdown",
   "metadata": {},
   "source": [
    "## Environment"
   ]
  },
  {
   "cell_type": "markdown",
   "metadata": {},
   "source": [
    "The paper describes four environments, namely:\n",
    "* Water Tank\n",
    "* Grid World\n",
    "* Self-Driving Car\n",
    "* Seaquest\n",
    "\n",
    "This Jupyter notebook is aimed at showing you how the **self-driving** car was implemented. I selected the self-driving car as it was the most interesting for my research, and it had all the elements to describe the paper."
   ]
  },
  {
   "cell_type": "markdown",
   "metadata": {},
   "source": [
    "### Setup\n",
    "First import common libraries needed by most python project"
   ]
  },
  {
   "cell_type": "code",
   "execution_count": 1,
   "metadata": {},
   "outputs": [],
   "source": [
    "%matplotlib inline\n",
    "# Used to clear the display\n",
    "from IPython.display import clear_output\n",
    "# Used for displaying\n",
    "import matplotlib.pyplot as plt\n",
    "# Used for efficient matrix math\n",
    "import numpy as np\n",
    "# Used to enumerate integers into human readable form\n",
    "import enum\n",
    "# Used to do basic math operations\n",
    "import math"
   ]
  },
  {
   "cell_type": "markdown",
   "metadata": {},
   "source": [
    "Next, we will load the environment from their road environment. We give the environment a name and give it a flag to visualize it. We reset the environment to make sure everything is ready."
   ]
  },
  {
   "cell_type": "code",
   "execution_count": 2,
   "metadata": {},
   "outputs": [
    {
     "name": "stdout",
     "output_type": "stream",
     "text": [
      "filling background\n",
      "filling obstacles\n"
     ]
    },
    {
     "data": {
      "text/plain": [
       "array([ 0.16666667,  0.83333333,  0.62426595, -0.78121189])"
      ]
     },
     "execution_count": 2,
     "metadata": {},
     "output_type": "execute_result"
    }
   ],
   "source": [
    "# Load environment Library\n",
    "from env_road3 import Env \n",
    "# Launch environment\n",
    "env = Env(env_label=\"Car Environment\", viz=True)\n",
    "# Reset environment\n",
    "env.reset()"
   ]
  },
  {
   "cell_type": "markdown",
   "metadata": {},
   "source": [
    "The environment takes an integer as an input. The integers represent directions we want the vehicle to drive in. Below is a list of each of the inputs that they represent in degrees, as well as what they represent in cardinal directions. I used this table to create an enumeration of directions for later easier use and understanding:\n",
    "\n",
    "| Input (integer) | Degree | Cardinal Directon |\n",
    "| --- | --- | --- |\n",
    "| 0 | 180 | South |\n",
    "| 1 | 135 | South East |\n",
    "| 2 | 90 | East |\n",
    "| 3 | 45 | North East |\n",
    "| 4 | 0 | North |\n",
    "| 5 | 315 | North West |\n",
    "| 6 | 270 | West |\n",
    "| 7 | 225 | South West |\n"
   ]
  },
  {
   "cell_type": "code",
   "execution_count": 3,
   "metadata": {},
   "outputs": [],
   "source": [
    "# Create an enum containing the directions\n",
    "class Directions(enum.Enum):\n",
    "    S = 0\n",
    "    SE = 1\n",
    "    E = 2\n",
    "    NE = 3\n",
    "    N = 4\n",
    "    NW = 5\n",
    "    W = 6\n",
    "    SW = 7"
   ]
  },
  {
   "cell_type": "markdown",
   "metadata": {},
   "source": [
    "This function returns a direction key given a value. Used later on to extract what the value of an input is"
   ]
  },
  {
   "cell_type": "code",
   "execution_count": 4,
   "metadata": {},
   "outputs": [],
   "source": [
    "def get_direction_from_value(value):\n",
    "    for key in Directions:\n",
    "        if key.value == value:\n",
    "            return key"
   ]
  },
  {
   "cell_type": "markdown",
   "metadata": {},
   "source": [
    "### Testing the Environment\n",
    "\n",
    "First, let us see how this environment works. Let us select a random action like \"Drive East\" and pass that to the environment. You will notice that the environment returns four values. The values are:\n",
    "\n",
    "* **Observation**: These are values describing the status of the car, similar to sensors on a real self-driving car\n",
    "* **r**: This is the reward generated by the environment\n",
    "* **done**: This tells us if we have crashed or reached the maximum number of steps\n",
    "* **info**: Other information about the behavior of the car"
   ]
  },
  {
   "cell_type": "code",
   "execution_count": 5,
   "metadata": {},
   "outputs": [
    {
     "name": "stdout",
     "output_type": "stream",
     "text": [
      "Observation: [ 0.16666667  0.82083333  0.62426595 -0.78121189]\n",
      "Reward: 0.125\n"
     ]
    }
   ],
   "source": [
    "# Select an action\n",
    "action = Directions.N.value\n",
    "# Do that action in the environment\n",
    "observation, r, done, info = env.step(action)\n",
    "# Show reward and observation\n",
    "print(\"Observation: \" + str(observation))\n",
    "print(\"Reward: \" + str(r))"
   ]
  },
  {
   "cell_type": "markdown",
   "metadata": {},
   "source": [
    "Next let us create a function that is able to plot both the reward and observation so that we can better understand how it works."
   ]
  },
  {
   "cell_type": "code",
   "execution_count": 6,
   "metadata": {},
   "outputs": [],
   "source": [
    "def live_reward_observation_plot(reward, observation):\n",
    "    # Create the figure\n",
    "    plt.figure(figsize=(15, 5))\n",
    "    plt.subplot(121)\n",
    "    plt.subplot(1, 2, 1)\n",
    "    # Plot the reward\n",
    "    plt.plot(reward)\n",
    "    plt.title('Reward Over Time')\n",
    "    plt.xlabel(\"Number of Actions\")\n",
    "    plt.ylabel(\"Reward\")\n",
    "    # Plot the observation\n",
    "    plt.subplot(1, 2, 2)\n",
    "    x = [\"X Position\", \"Y Position\", \"sin(Heading)\", \"cos(Heading)\"]\n",
    "    plt.bar(x, observation)\n",
    "    plt.title('Environment Observation')\n",
    "    plt.xlabel(\"Observation Metric\")\n",
    "    plt.ylabel(\"Reading\")\n",
    "    plt.ylim([-1, 1])\n",
    "    # Clear the current output\n",
    "    clear_output(wait=True)\n",
    "    # Show the plot\n",
    "    plt.show()"
   ]
  },
  {
   "cell_type": "markdown",
   "metadata": {},
   "source": [
    "Now let us see how the rewards work. Let us create an action set that has all the actions in it. The actions are in random order, and then we can use that and compare it to the rewards and the observation to better understand how it all works."
   ]
  },
  {
   "cell_type": "code",
   "execution_count": 7,
   "metadata": {},
   "outputs": [
    {
     "data": {
      "image/png": "[encoded data removed]",
      "text/plain": [
       "<Figure size 1080x360 with 2 Axes>"
      ]
     },
     "metadata": {
      "needs_background": "light"
     },
     "output_type": "display_data"
    }
   ],
   "source": [
    "# Reset environment\n",
    "env.reset()\n",
    "\n",
    "# Init variables\n",
    "counter = 0\n",
    "rewards = []\n",
    "done = False\n",
    "\n",
    "# Create a random set of actions\n",
    "actions = [Directions.S.value,\n",
    "           Directions.SE.value,\n",
    "           Directions.E.value,\n",
    "           Directions.NE.value,\n",
    "           Directions.N.value,\n",
    "           Directions.NW.value,\n",
    "           Directions.W.value,\n",
    "           Directions.SW.value]\n",
    "\n",
    "# For a short time\n",
    "while counter < 50 and not done:\n",
    "    # Repeat each of the actions in the list\n",
    "    for a in actions:\n",
    "        # If we crash break\n",
    "        if done == True:\n",
    "            break\n",
    "        # Count each step\n",
    "        counter += 1\n",
    "        # Step in the environment\n",
    "        observation, r, done, info = env.step(a)\n",
    "        # Append the rewards\n",
    "        rewards.append(r)\n",
    "        # Display the reward and observation\n",
    "        live_reward_observation_plot(rewards, observation)"
   ]
  },
  {
   "cell_type": "markdown",
   "metadata": {},
   "source": [
    "### Manually Completing the Task\n",
    "\n",
    "Now that we know the car needs to drive clockwise around the track let us see if we can manually drive the car around the track. To do that, I create a loop that changes the direction based on the number of steps we have run. A better way to do this would be to check the observation and make changes based on that."
   ]
  },
  {
   "cell_type": "code",
   "execution_count": 8,
   "metadata": {},
   "outputs": [
    {
     "data": {
      "image/png": "[encoded data removed]",
      "text/plain": [
       "<Figure size 1080x360 with 2 Axes>"
      ]
     },
     "metadata": {
      "needs_background": "light"
     },
     "output_type": "display_data"
    }
   ],
   "source": [
    "# Reset the environment\n",
    "env.reset()\n",
    "# Init variables\n",
    "done = False\n",
    "rewards = []\n",
    "counter = 0\n",
    "# While we are driving and have not crashed\n",
    "while counter < 200 and not done:\n",
    "    counter += 1\n",
    "    # First drive north\n",
    "    if counter < 55:\n",
    "        observation, r, done, info = env.step(Directions.N.value)\n",
    "    # Second drive east\n",
    "    elif counter < 100:\n",
    "        observation, r, done, info = env.step(Directions.E.value)\n",
    "    # Third drive south\n",
    "    elif counter < 150:\n",
    "        observation, r, done, info = env.step(Directions.S.value)\n",
    "    # Fourth drive west\n",
    "    else:\n",
    "        observation, r, done, info = env.step(Directions.W.value)\n",
    "    # Display the values of the car driving\n",
    "    rewards.append(r)\n",
    "    live_reward_observation_plot(rewards, observation)"
   ]
  },
  {
   "cell_type": "markdown",
   "metadata": {},
   "source": [
    "**Note**: The spike in reward is due to the car reaching its goal of going clockwise around the track."
   ]
  },
  {
   "cell_type": "markdown",
   "metadata": {},
   "source": [
    "# Reinforcement Learning\n",
    "\n",
    "Now, let us run reinforcement learning on our environment to see if we can learn how to complete this task. First, let us import the libraries we need to complete this task."
   ]
  },
  {
   "cell_type": "code",
   "execution_count": 9,
   "metadata": {
    "scrolled": false
   },
   "outputs": [
    {
     "name": "stderr",
     "output_type": "stream",
     "text": [
      "Using TensorFlow backend.\n"
     ]
    }
   ],
   "source": [
    "import numpy as np\n",
    "from env_road3 import Env \n",
    "from keras.models import Sequential\n",
    "from keras.layers import Dense, Activation, Flatten\n",
    "from keras.optimizers import Adam\n",
    "from rl.agents.dqn import DQNAgent\n",
    "from rl.policy import BoltzmannQPolicy\n",
    "from rl.memory import SequentialMemory"
   ]
  },
  {
   "cell_type": "markdown",
   "metadata": {},
   "source": [
    "Next, let us set a random seed so that it behaves the same on each run. **Note**: You should remove this line when running the final experiments."
   ]
  },
  {
   "cell_type": "code",
   "execution_count": 10,
   "metadata": {},
   "outputs": [],
   "source": [
    "np.random.seed(123)"
   ]
  },
  {
   "cell_type": "markdown",
   "metadata": {},
   "source": [
    "### Creating the Model\n",
    "\n",
    "Let us create the model using Keras (which we learned in class). The model takes in 4 inputs, which are the observations. The model needs to output the number of actions."
   ]
  },
  {
   "cell_type": "code",
   "execution_count": 11,
   "metadata": {},
   "outputs": [
    {
     "name": "stdout",
     "output_type": "stream",
     "text": [
      "model initiated\n"
     ]
    }
   ],
   "source": [
    "# Create an action space and observation space based on the expected size of both\n",
    "nb_actions = len(Directions)\n",
    "observation_space = (4,)\n",
    "\n",
    "# Create our learning model.\n",
    "model = Sequential()\n",
    "# It takes in input of size observation_space\n",
    "model.add(Flatten(input_shape=(1,) + observation_space))\n",
    "# Three hidden layers\n",
    "model.add(Dense(20))\n",
    "model.add(Activation('relu'))\n",
    "model.add(Dense(20))\n",
    "model.add(Activation('relu'))\n",
    "model.add(Dense(20))\n",
    "model.add(Activation('relu'))\n",
    "# Output layer with represents each of the possible directions\n",
    "model.add(Dense(nb_actions))\n",
    "model.add(Activation('linear'))\n",
    "# Create that it keeps track of the agent’s experiences\n",
    "memory = SequentialMemory(limit=500000, window_length=1)\n",
    "# Q-values represent the components of the Boltzmann distribution\n",
    "policy = BoltzmannQPolicy()\n",
    "print (\"model initiated\")"
   ]
  },
  {
   "cell_type": "markdown",
   "metadata": {},
   "source": [
    "Next, we create the model. The model is passed onto **DQNAgent**, which trains the model based on the papers by Mnih (2013) and Mnih (2015). **DQNAgent** also handles the interaction with the environment. Due to the scope of this project, this has been abstracted. However, the general concept is you have both a feed-forward stage where you explore the world and then a feedback stage where you update your weights of your model based on your exploring. For more information, please look at:\n",
    "\n",
    "* http://arxiv.org/pdf/1312.5602.pdf\n",
    "* http://arxiv.org/abs/1509.06461"
   ]
  },
  {
   "cell_type": "code",
   "execution_count": 12,
   "metadata": {},
   "outputs": [],
   "source": [
    "learning_rate=1e-3\n",
    "dqn = DQNAgent(model=model, nb_actions=nb_actions, memory=memory, nb_steps_warmup=50,\n",
    "           target_model_update=1e-2, policy=policy,shield=None, huge_neg=False, preemptive=False)\n",
    "dqn.compile(Adam(lr=learning_rate), metrics=['mae'])"
   ]
  },
  {
   "cell_type": "markdown",
   "metadata": {},
   "source": [
    "Similarly to the section of testing our environment, we create a new function to plot the accumulated rewards."
   ]
  },
  {
   "cell_type": "code",
   "execution_count": 13,
   "metadata": {},
   "outputs": [],
   "source": [
    "def live_reward_plot(scores):\n",
    "    # Create the figure\n",
    "    plt.figure(figsize=(15, 5))\n",
    "    plt.subplot(111)\n",
    "    plt.subplot(1, 1, 1)\n",
    "    # Plot the score\n",
    "    plt.plot(scores)\n",
    "    plt.title('Score Over Time')\n",
    "    plt.xlabel(\"Number of Epochs\")\n",
    "    plt.ylabel(\"Score\")\n",
    "    plt.ylim([-5, 30])\n",
    "    # Clear the current output\n",
    "    clear_output(wait=True)\n",
    "    # Show the plot\n",
    "    plt.show()"
   ]
  },
  {
   "cell_type": "markdown",
   "metadata": {},
   "source": [
    "### Training the Model\n",
    "\n",
    "Lets now train the model to see how training works. Here we will request that the training be visualized so we can see what the reinforcement learning is doing. We will train the model for 100 steps. Here the steps are each action we apply to the model. Each time the model hits the wall, we notice that the model is reset due to the collision."
   ]
  },
  {
   "cell_type": "code",
   "execution_count": 14,
   "metadata": {},
   "outputs": [],
   "source": [
    "env.render(mode=True)\n",
    "train_history = dqn.fit(env, nb_steps=100, visualize=True, verbose=0)"
   ]
  },
  {
   "cell_type": "markdown",
   "metadata": {},
   "source": [
    "### Evaluation the Model\n",
    "\n",
    "We now put the model in a loop where we train the model for 200 steps, and then we test the model. Each time we do this, we count this a single epoch. The accumulated score for the testing is then plotted as we go. We only run this for 5 epochs for time's sake. "
   ]
  },
  {
   "cell_type": "code",
   "execution_count": 15,
   "metadata": {},
   "outputs": [
    {
     "data": {
      "image/png": "[encoded data removed]",
      "text/plain": [
       "<Figure size 1080x360 with 1 Axes>"
      ]
     },
     "metadata": {
      "needs_background": "light"
     },
     "output_type": "display_data"
    }
   ],
   "source": [
    "# Init the variables\n",
    "score = 0\n",
    "counter = 0\n",
    "score_log = []\n",
    "\n",
    "# Set the number of training steps and epochs\n",
    "steps = 200\n",
    "max_count = 5\n",
    "\n",
    "# While we have not reached the max number of epochs\n",
    "while counter <= max_count:\n",
    "    counter += 1\n",
    "    # Turn rending off for training\n",
    "    env.render(mode=False)\n",
    "    train_history = dqn.fit(env, nb_steps=steps, visualize=False, verbose=0)\n",
    "    # Turn rending on for testing\n",
    "    env.render(mode=True)\n",
    "    test_history = dqn.test(env, nb_episodes=1, visualize=True, verbose=0)\n",
    "    # Get and plot the score\n",
    "    score = np.mean(test_history.history['episode_reward'])\n",
    "    score_log.append(score)\n",
    "    live_reward_plot(score_log)"
   ]
  },
  {
   "cell_type": "markdown",
   "metadata": {},
   "source": [
    "# Shield\n",
    "\n",
    "The shield is a unique part of this approach. A shield gets given a set of actions and then blocks certain actions from happening. Blocking certain actions allows the reinforcement learning agent to learn safely. Interesting, they implement their shield to take binary inputs. They never mention this in the paper and are simply an implementation choice."
   ]
  },
  {
   "cell_type": "markdown",
   "metadata": {},
   "source": [
    "### Auxilary Functions\n",
    "\n",
    "The robots states and binary representation are shown below for convience. I created a function to decode these states for better human readability.\n",
    "\n",
    "| State | Binary | Integer |\n",
    "|-------|--------|---------|\n",
    "|    Mid                    |    0000    |    0      |\n",
    "|    right facing up        |    0001    |    1      |\n",
    "|    left                   |    0010    |    2      |\n",
    "|    bottom facing right    |    0011    |    3      |\n",
    "|    top facing right       |    0100    |    4      |\n",
    "|    top left facing up     |    0101    |    5      |\n",
    "|    bot left facing bot    |    0101    |    5      |\n",
    "|    bot left               |    0110    |    6      |\n",
    "|    bot right              |    0110    |    6      |\n",
    "|    bot right facing bot   |    0111    |    7      |\n",
    "|    top right              |    0111    |    7      |\n",
    "|    na                     |    1000    |    8      |\n",
    "|    right                  |    1001    |    9      |\n",
    "|    left facing up         |    1010    |    10     |\n",
    "|    bottom                 |    1011    |    11     |\n",
    "|    top                    |    1100    |    12     |\n",
    "|    top right facing right |    1101    |    13     |\n",
    "|    na                     |    1110    |    14     |\n",
    "|    na                     |    1111    |    15     |"
   ]
  },
  {
   "cell_type": "code",
   "execution_count": 16,
   "metadata": {},
   "outputs": [],
   "source": [
    "def decode_binary_observation(b):\n",
    "    if   np.array_equal(np.array(b), np.array([0,0,0,0])):\n",
    "        print(\"Mid\")\n",
    "    elif np.array_equal(np.array(b), np.array([0,0,0,1])):\n",
    "        print(\"right facing up\")\n",
    "    elif np.array_equal(np.array(b), np.array([0,0,1,0])):\n",
    "        print(\"left\")\n",
    "    elif np.array_equal(np.array(b), np.array([0,0,1,1])):\n",
    "        print(\"bottom facing righ\")\n",
    "    elif np.array_equal(np.array(b), np.array([0,1,0,0])):\n",
    "        print(\"top facing right\")\n",
    "    elif np.array_equal(np.array(b), np.array([0,1,0,1])):\n",
    "        print(\"top left facing up or bot left facing bot\")\n",
    "    elif np.array_equal(np.array(b), np.array([0,1,1,0])):\n",
    "        print(\"bot left or bot right\")\n",
    "    elif np.array_equal(np.array(b), np.array([0,1,1,1])):\n",
    "        print(\"bot right facing bot or top right\")\n",
    "    elif np.array_equal(np.array(b), np.array([1,0,0,0])):\n",
    "        print(\"na\")\n",
    "    elif np.array_equal(np.array(b), np.array([1,0,0,1])):\n",
    "        print(\"right\")\n",
    "    elif np.array_equal(np.array(b), np.array([1,0,1,0])):\n",
    "        print(\"left facing up\")\n",
    "    elif np.array_equal(np.array(b), np.array([1,0,1,1])):\n",
    "        print(\"bottom\")\n",
    "    elif np.array_equal(np.array(b), np.array([1,1,0,0])):\n",
    "        print(\"top\")\n",
    "    elif np.array_equal(np.array(b), np.array([1,1,0,1])):\n",
    "        print(\"top right facing right\")\n",
    "    elif np.array_equal(np.array(b), np.array([1,1,1,0])):\n",
    "        print(\"na\")\n",
    "    elif np.array_equal(np.array(b), np.array([1,1,1,1])):\n",
    "        print(\"na\")\n",
    "    else:\n",
    "        print(\"Unknown number\")"
   ]
  },
  {
   "cell_type": "markdown",
   "metadata": {},
   "source": [
    "Next, they declare a function that takes in a value and converts it to binary format. They pad it with 0's."
   ]
  },
  {
   "cell_type": "code",
   "execution_count": 17,
   "metadata": {},
   "outputs": [],
   "source": [
    "# To binary\n",
    "def to_bin(x):\n",
    "    x = \"{0:b}\".format(x)\n",
    "    x = list(map(int,x))\n",
    "    x = [0 for s in range(3-len(x))] + x\n",
    "    return x"
   ]
  },
  {
   "cell_type": "markdown",
   "metadata": {},
   "source": [
    "Here they declare a function which takes binary input and converts it to an integer"
   ]
  },
  {
   "cell_type": "code",
   "execution_count": 18,
   "metadata": {},
   "outputs": [],
   "source": [
    "# Bianry to int\n",
    "def to_int(x):\n",
    "    x__,_x_,__x = x\n",
    "    return 4*x__+2*_x_+1*__x"
   ]
  },
  {
   "cell_type": "markdown",
   "metadata": {},
   "source": [
    "### Shielding\n",
    "\n",
    "The shield then takes in a binary representation of the actions. It also takes in a binary representation of the state. They compute which actions are not allowed based on these two representations. Below is an example of that working"
   ]
  },
  {
   "cell_type": "code",
   "execution_count": 19,
   "metadata": {},
   "outputs": [],
   "source": [
    "# Reset the environment\n",
    "env.reset()\n",
    "observation, r, done, info = env.step(Directions.N.value)"
   ]
  },
  {
   "cell_type": "markdown",
   "metadata": {},
   "source": [
    "Lets create a shield. The shield is implemented to take in an observation and an action both in binary format. It then returns if the action is rejected or not."
   ]
  },
  {
   "cell_type": "code",
   "execution_count": 20,
   "metadata": {},
   "outputs": [],
   "source": [
    "from safelearn2 import Shield\n",
    "shield = Shield()"
   ]
  },
  {
   "cell_type": "markdown",
   "metadata": {},
   "source": [
    "Take an observation and convert it into a binary format. This is the format which is used by the shield"
   ]
  },
  {
   "cell_type": "code",
   "execution_count": 21,
   "metadata": {},
   "outputs": [
    {
     "name": "stdout",
     "output_type": "stream",
     "text": [
      "(1, 0, 1, 0)\n",
      "left facing up\n"
     ]
    }
   ],
   "source": [
    "from rl.core import get_input\n",
    "o_bin = get_input(observation)\n",
    "print(o_bin)\n",
    "decode_binary_observation(o_bin)"
   ]
  },
  {
   "cell_type": "markdown",
   "metadata": {},
   "source": [
    "Finally for each of the actions, check if the shield rejects it or not based on the current observation. We can then take each of the banned actions and print them out. These actions would then be rejected if the reinforcement learning agent tried to select them."
   ]
  },
  {
   "cell_type": "code",
   "execution_count": 22,
   "metadata": {},
   "outputs": [
    {
     "name": "stdout",
     "output_type": "stream",
     "text": [
      "Banned Actions: \n",
      "[0, 1, 5, 6, 7]\n",
      "Directions.S\n",
      "Directions.SE\n",
      "Directions.NW\n",
      "Directions.W\n",
      "Directions.SW\n"
     ]
    }
   ],
   "source": [
    "# Create a list of banned actions\n",
    "banned_actions = []\n",
    "# For each action\n",
    "for an_action in range(0,8):\n",
    "    # Convert the action into a binary format\n",
    "    a_bin = to_bin(an_action)\n",
    "    # Pass the action and the observation to the shield\n",
    "    action = to_int(shield.move(o_bin[0],o_bin[1],o_bin[2],o_bin[3],a_bin[0],a_bin[1],a_bin[2]))\n",
    "    # If the action is not an action (i.e the sheild rejected it)\n",
    "    if action != an_action:\n",
    "        # Add this action to banned actions\n",
    "        banned_actions.append(an_action)\n",
    "\n",
    "# Print out the list of banned actions\n",
    "print(\"Banned Actions: \")\n",
    "print(banned_actions)\n",
    "for ba in banned_actions:\n",
    "    print(get_direction_from_value(ba))"
   ]
  },
  {
   "cell_type": "markdown",
   "metadata": {},
   "source": [
    "# Putting it Together\n",
    "\n",
    "Finally we add both the reinforcement learning and the shield together. This creates a reinforcement learning agent which is being shielded from doing dangerous actions. Let us start by first resetting the environment."
   ]
  },
  {
   "cell_type": "code",
   "execution_count": 23,
   "metadata": {},
   "outputs": [],
   "source": [
    "# Reset the environment\n",
    "env.reset()\n",
    "observation, r, done, info = env.step(Directions.N.value)"
   ]
  },
  {
   "cell_type": "markdown",
   "metadata": {},
   "source": [
    "Lets create a shield as we have done before."
   ]
  },
  {
   "cell_type": "code",
   "execution_count": 24,
   "metadata": {},
   "outputs": [],
   "source": [
    "shield = Shield()"
   ]
  },
  {
   "cell_type": "markdown",
   "metadata": {},
   "source": [
    "Create a DQNAgent as done before. However here lets pass in the shield and set preemptive to true"
   ]
  },
  {
   "cell_type": "code",
   "execution_count": 25,
   "metadata": {},
   "outputs": [],
   "source": [
    "dqn = DQNAgent(model=model, nb_actions=nb_actions, memory=memory, nb_steps_warmup=50,\n",
    "           target_model_update=1e-2, policy=policy,shield=shield, huge_neg=False, preemptive=True)"
   ]
  },
  {
   "cell_type": "markdown",
   "metadata": {},
   "source": [
    "Now lets compile our agent with a learning rate set to 1e-3"
   ]
  },
  {
   "cell_type": "code",
   "execution_count": 26,
   "metadata": {},
   "outputs": [],
   "source": [
    "learning_rate = 1e-3\n",
    "dqn.compile(Adam(lr=learning_rate), metrics=['mae'])"
   ]
  },
  {
   "cell_type": "markdown",
   "metadata": {},
   "source": [
    "Lets visualize the first 100 steps of training and compare them to how reinforcement learning did without the shield. Remember that without the shield the vechile was crashing during the training phase."
   ]
  },
  {
   "cell_type": "code",
   "execution_count": 27,
   "metadata": {},
   "outputs": [],
   "source": [
    "env.render(mode=True)\n",
    "train_history = dqn.fit(env, nb_steps=100, visualize=True, verbose=0)"
   ]
  },
  {
   "cell_type": "markdown",
   "metadata": {},
   "source": [
    "Finally lets repeat the same test with the vehicle we will let it train for 5 epochs and compare the vehicles ability with and without the shield. We notice that with the shield the vehicle does not crash and thus performs much better than a vehicle without a shield"
   ]
  },
  {
   "cell_type": "code",
   "execution_count": 28,
   "metadata": {},
   "outputs": [
    {
     "data": {
      "image/png": "[encoded data removed]",
      "text/plain": [
       "<Figure size 1080x360 with 1 Axes>"
      ]
     },
     "metadata": {
      "needs_background": "light"
     },
     "output_type": "display_data"
    }
   ],
   "source": [
    "# Init the variables\n",
    "score = 0\n",
    "counter = 0\n",
    "score_log = []\n",
    "\n",
    "# Set the number of training steps and epochs\n",
    "steps = 200\n",
    "max_count = 5\n",
    "\n",
    "# While we have not reached the max number of epochs\n",
    "while counter <= max_count:\n",
    "    counter += 1\n",
    "    # Turn rending off for training\n",
    "    env.render(mode=False)\n",
    "    train_history = dqn.fit(env, nb_steps=steps, visualize=False, verbose=0)\n",
    "    # Turn rending on for testing\n",
    "    env.render(mode=True)\n",
    "    test_history = dqn.test(env, nb_episodes=1, visualize=True, verbose=0)\n",
    "    # Get and plot the score\n",
    "    score = np.mean(test_history.history['episode_reward'])\n",
    "    score_log.append(score)\n",
    "    live_reward_plot(score_log)"
   ]
  }
 ],
 "metadata": {
  "kernelspec": {
   "display_name": "Python 3",
   "language": "python",
   "name": "python3"
  },
  "language_info": {
   "codemirror_mode": {
    "name": "ipython",
    "version": 3
   },
   "file_extension": ".py",
   "mimetype": "text/x-python",
   "name": "python",
   "nbconvert_exporter": "python",
   "pygments_lexer": "ipython3",
   "version": "3.6.9"
  }
 },
 "nbformat": 4,
 "nbformat_minor": 2
}
